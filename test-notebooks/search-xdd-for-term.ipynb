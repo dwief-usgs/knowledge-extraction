{
 "cells": [
  {
   "cell_type": "markdown",
   "metadata": {},
   "source": [
    "##### Example of using xDD (eXtract Dark Data) API, previously called GeoDeepDive for searching the snippet route.  This searches the database for a term of interest, returning basic citation information and highlights giving context of each mention of the term.\n",
    "\n",
    "##### Contact: Daniel Wieferich (dwieferich@usgs.gov)"
   ]
  },
  {
   "cell_type": "code",
   "execution_count": 109,
   "metadata": {
    "collapsed": true
   },
   "outputs": [],
   "source": [
    "#Function handling request of information from xDD API\n",
    "\n",
    "import requests\n",
    "\n",
    "def xdd_api(route, params):\n",
    "    \"\"\"Create list of docs mentioning a term of interest\n",
    "    Parameters : see https://geodeepdive.org/api for more detail\n",
    "    ----------\n",
    "    routes : str of available api routes for xDD \n",
    "    params : str of key value pairs of paramaters:values separated by &\n",
    "    \"\"\"\n",
    "    url = 'https://geodeepdive.org/api'\n",
    "    search = (url + '/' + route + '?' + str(params))\n",
    "    all_data = []\n",
    "    print (search)\n",
    "    try:\n",
    "        while search != '':\n",
    "            r=requests.get(search)\n",
    "            if r.status_code == 200 and 'success' in r.json():\n",
    "                json_r = r.json()\n",
    "                data = json_r['success']['data']\n",
    "                search = json_r['success']['next_page']\n",
    "                hits = json_r['success']['hits']\n",
    "                for i in data:\n",
    "                    all_data.append(i)\n",
    "            else:\n",
    "                raise Exception('xDD API returning: {}'.format(r.status_code))\n",
    "            \n",
    "    except Exception as e:\n",
    "        raise Exception(e)\n",
    "        \n",
    "    return all_data, hits\n",
    "        \n"
   ]
  },
  {
   "cell_type": "markdown",
   "metadata": {},
   "source": [
    "##### Search for mention of YETI (a machine name in USGS Advanced Research Computing) to see if their are mentions in the xDD database."
   ]
  },
  {
   "cell_type": "code",
   "execution_count": 110,
   "metadata": {},
   "outputs": [
    {
     "name": "stdout",
     "output_type": "stream",
     "text": [
      "https://geodeepdive.org/api/snippets?term=YETI&clean&full_results\n"
     ]
    }
   ],
   "source": [
    "#Specify API route and parameters needed for search\n",
    "\n",
    "route = 'snippets'\n",
    "\n",
    "#Set a term or loop through terms\n",
    "#term = 'USGS Advanced Research Computing'\n",
    "#term = 'USGS YETI'\n",
    "term = 'YETI'\n",
    "\n",
    "#List of available parameters and examples : 'https://geodeepdive.org/api/snippets'\n",
    "params = 'term=' + term + '&clean&full_results'\n",
    "\n",
    "#Search xDD results (detailed results per article) and hits = total # articles with mentions\n",
    "results, hits = xdd_api(route, params)\n"
   ]
  },
  {
   "cell_type": "markdown",
   "metadata": {},
   "source": [
    "##### Example of information returned per article\n",
    "\n",
    "fields defined here: https://geodeepdive.org/api/snippets"
   ]
  },
  {
   "cell_type": "code",
   "execution_count": 111,
   "metadata": {},
   "outputs": [
    {
     "data": {
      "text/plain": [
       "{'URL': 'http://doi.wiley.com/10.1002/ajpa.1330870413',\n",
       " '_gddid': '574e9029cf58f19baeeb2da3',\n",
       " 'authors': 'Daegling, David J.',\n",
       " 'coverDate': 'April 1992',\n",
       " 'doi': '10.1002/ajpa.1330870413',\n",
       " 'highlight': ['this became the material basis for the contemporary “yeti”myths that haunt the human subconscious. The'],\n",
       " 'publisher': 'Wiley',\n",
       " 'pubname': 'American Journal of Physical Anthropology',\n",
       " 'title': 'Other origins: The search for the giant ape in human prehistory. By Russell Ciochon, John Olsen, and Jamie James. New York: Bantam. xi + 262 pp. $22.95 (cloth)'}"
      ]
     },
     "execution_count": 111,
     "metadata": {},
     "output_type": "execute_result"
    }
   ],
   "source": [
    "results[200]"
   ]
  },
  {
   "cell_type": "code",
   "execution_count": 112,
   "metadata": {},
   "outputs": [
    {
     "name": "stdout",
     "output_type": "stream",
     "text": [
      "Number of articles with mentions: 747\n",
      "\n"
     ]
    }
   ],
   "source": [
    "print ('Number of articles with mentions: ' + str(hits) + '\\n')"
   ]
  },
  {
   "cell_type": "markdown",
   "metadata": {},
   "source": [
    "##### In this case the term YETI is returning a lot of mentions that are not relevant. To better refine the search results search for mentions that also reference USGS in highlights"
   ]
  },
  {
   "cell_type": "code",
   "execution_count": 113,
   "metadata": {},
   "outputs": [
    {
     "name": "stdout",
     "output_type": "stream",
     "text": [
      "Overcoming Equifinality: Leveraging Long Time Series for Stream Metabolism Estimation\n",
      "\n",
      "Predicting monarch butterfly (Danaus plexippus) movement and egg-laying with a spatially-explicit agent-based model: The role of monarch perceptual range and spatial memory\n",
      "\n",
      "PhreeqcRM: A reaction module for transport simulators based on the geochemical model PHREEQC\n",
      "\n",
      "Determination of Arsenic and Mercury in Various Environmental Matrices by Chemical Neutron Activation Analysis\n",
      "\n"
     ]
    }
   ],
   "source": [
    "title = []\n",
    "for article in results:\n",
    "    for context in article['highlight']:\n",
    "        if 'U.S. Geological Survey' in context or 'USGS' in context:\n",
    "            title.append(article['title'])\n",
    "unique_titles = list(set(title))\n",
    "for title in unique_titles:\n",
    "    print (title + '\\n')\n"
   ]
  }
 ],
 "metadata": {
  "kernelspec": {
   "display_name": "Python 3",
   "language": "python",
   "name": "python3"
  },
  "language_info": {
   "codemirror_mode": {
    "name": "ipython",
    "version": 3
   },
   "file_extension": ".py",
   "mimetype": "text/x-python",
   "name": "python",
   "nbconvert_exporter": "python",
   "pygments_lexer": "ipython3",
   "version": "3.6.1"
  }
 },
 "nbformat": 4,
 "nbformat_minor": 2
}
